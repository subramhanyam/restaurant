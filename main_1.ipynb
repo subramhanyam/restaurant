{
 "cells": [
  {
   "cell_type": "code",
   "execution_count": 2,
   "id": "939e1a98",
   "metadata": {},
   "outputs": [],
   "source": [
    "DB_USERNAME = \"postgres\"\n",
    "DB_PASSWORD = \"12345678\"\n",
    "DB_HOST = \"localhost\"\n",
    "DB_PORT = 5432\n",
    "DB_NAME = \"testdb\"\n",
    "\n",
    "from sqlalchemy import create_engine\n",
    "base_url = f\"postgresql+psycopg2://{DB_USERNAME}:{DB_PASSWORD}@{DB_HOST}:{DB_PORT}/{DB_NAME}\"\n",
    "engine = create_engine(base_url)\n",
    "from langchain_community.utilities.sql_database import SQLDatabase\n",
    "\n",
    "db = SQLDatabase(engine=engine)"
   ]
  },
  {
   "cell_type": "code",
   "execution_count": 3,
   "id": "3c1b9868",
   "metadata": {},
   "outputs": [
    {
     "data": {
      "text/plain": [
       "AIMessage(content='The capital of India is New Delhi.', additional_kwargs={'refusal': None}, response_metadata={'token_usage': {'completion_tokens': 8, 'prompt_tokens': 12, 'total_tokens': 20, 'completion_tokens_details': {'accepted_prediction_tokens': 0, 'audio_tokens': 0, 'reasoning_tokens': 0, 'rejected_prediction_tokens': 0}, 'prompt_tokens_details': {'audio_tokens': 0, 'cached_tokens': 0}}, 'model_name': 'gpt-4o-mini-2024-07-18', 'system_fingerprint': 'fp_34a54ae93c', 'id': 'chatcmpl-ByyAJwcVGhbc56nAfAG9XB7eosD6a', 'service_tier': 'default', 'finish_reason': 'stop', 'logprobs': None}, id='run--439206e8-4411-47d1-8431-ec583e1c8085-0', usage_metadata={'input_tokens': 12, 'output_tokens': 8, 'total_tokens': 20, 'input_token_details': {'audio': 0, 'cache_read': 0}, 'output_token_details': {'audio': 0, 'reasoning': 0}})"
      ]
     },
     "execution_count": 3,
     "metadata": {},
     "output_type": "execute_result"
    }
   ],
   "source": [
    "import os\n",
    "from dotenv import load_dotenv\n",
    "load_dotenv()\n",
    "\n",
    "os.environ[\"OPENAI_API_KEY\"]=os.getenv(\"OPENAI_API_KEY\")\n",
    "\n",
    "from langchain_openai import ChatOpenAI\n",
    "llm = ChatOpenAI(model='gpt-4o-mini',api_key=os.environ[\"OPENAI_API_KEY\"])\n",
    "llm.invoke(\"what is capital of india\")"
   ]
  },
  {
   "cell_type": "code",
   "execution_count": 4,
   "id": "4313d387",
   "metadata": {},
   "outputs": [],
   "source": [
    "from langchain_community.agent_toolkits.sql.toolkit import SQLDatabaseToolkit\n",
    "\n",
    "toolkit = SQLDatabaseToolkit(db = db , llm = llm)\n",
    "tools = toolkit.get_tools()\n",
    "llm_with_tools= llm.bind_tools(tools)"
   ]
  },
  {
   "cell_type": "code",
   "execution_count": 5,
   "id": "11f6d1fc",
   "metadata": {},
   "outputs": [],
   "source": [
    "from typing_extensions import TypedDict\n",
    "from typing import Annotated\n",
    "from langgraph.graph.message import add_messages\n",
    "from langchain_core.messages import AnyMessage\n",
    "from langgraph.graph import MessagesState\n",
    "\n",
    "class State(TypedDict):\n",
    "    messages : Annotated[list[AnyMessage],add_messages]\n"
   ]
  },
  {
   "cell_type": "code",
   "execution_count": 6,
   "id": "9849d1f8",
   "metadata": {},
   "outputs": [],
   "source": [
    "def llm_tool (state:State):\n",
    "    result = llm_with_tools.invoke(state[\"messages\"])\n",
    "    return {\"messages\":[result]}\n",
    "\n",
    "from pydantic import BaseModel,Field\n",
    "from typing import Literal\n",
    "\n",
    "    \n",
    "class Checker(BaseModel):\n",
    "    result : Literal['yes',\"no\"] = Field(description=\"return yes or no based on users query either user need to aproach the agent again or not\")\n",
    "\n",
    "def checker(state:State):\n",
    "    llm_withstructure = llm.with_structured_output(Checker)\n",
    "    result = llm_withstructure.invoke(state[\"messages\"])\n",
    "    if result.result == 'yes':\n",
    "        return \"llm_tool\"\n",
    "    return \"__end__\"\n",
    "\n",
    "def tool_condition(state:State,messages_key = \"messages\"):\n",
    "    if isinstance(state, list):\n",
    "        ai_message = state[-1]\n",
    "    elif isinstance(state, dict) and (messages := state.get(messages_key, [])):\n",
    "        ai_message = messages[-1]\n",
    "    elif messages := getattr(state, messages_key, []):\n",
    "        ai_message = messages[-1]\n",
    "    else:\n",
    "        raise ValueError(f\"No messages found in input state to tool_edge: {state}\")\n",
    "    if hasattr(ai_message, \"tool_calls\") and len(ai_message.tool_calls) > 0:\n",
    "        return \"tools\"\n",
    "    return \"node_3\"\n",
    "    \n",
    "\n",
    "def node_3(state:State):\n",
    "    return {\"messages\":state[\"messages\"]}\n"
   ]
  },
  {
   "cell_type": "code",
   "execution_count": 7,
   "id": "c8110dfb",
   "metadata": {},
   "outputs": [],
   "source": [
    "from langgraph.graph import StateGraph,START,END\n",
    "from langgraph.prebuilt import ToolNode,tools_condition\n",
    "\n",
    "graph_builder = StateGraph(State)\n",
    "\n",
    "graph_builder.add_node(\"llm_tool\",llm_tool)\n",
    "graph_builder.add_node(\"node_3\",node_3)\n",
    "graph_builder.add_node(ToolNode(toolkit.get_tools()))\n",
    "\n",
    "graph_builder.add_edge(START,\"llm_tool\")\n",
    "graph_builder.add_conditional_edges(\"llm_tool\",tool_condition,{\"tools\":\"tools\",\"node_3\":\"node_3\"})\n",
    "graph_builder.add_edge(\"tools\",\"llm_tool\")\n",
    "graph_builder.add_conditional_edges(\"node_3\",checker,{\"llm_tool\":\"llm_tool\",\"__end__\":END})\n",
    "\n",
    "\n",
    "from langgraph.checkpoint.memory import MemorySaver\n",
    "memory=MemorySaver()\n",
    "\n",
    "graph = graph_builder.compile(checkpointer=memory,interrupt_before=[\"llm_tool\"])"
   ]
  },
  {
   "cell_type": "code",
   "execution_count": 8,
   "id": "80960cba",
   "metadata": {},
   "outputs": [
    {
     "data": {
      "image/png": "[encoded data removed]",
      "text/plain": [
       "<IPython.core.display.Image object>"
      ]
     },
     "metadata": {},
     "output_type": "display_data"
    }
   ],
   "source": [
    "from IPython.display import Image ,display\n",
    "\n",
    "display(Image(graph.get_graph().draw_mermaid_png()))"
   ]
  },
  {
   "cell_type": "code",
   "execution_count": 9,
   "id": "ee1f326c",
   "metadata": {},
   "outputs": [],
   "source": [
    "from langchain_core.messages import SystemMessage,HumanMessage\n",
    "config = {\"configurable\":{\"thread_id\":\"test_31\"}}\n",
    "for event in graph.stream(State(messages=[SystemMessage(content = \"you are a retaurent mangement agent  who does the task  based on the provided postgress sql database\")]),config,stream_mode=\"value\"):\n",
    "    print(event)"
   ]
  },
  {
   "cell_type": "code",
   "execution_count": 10,
   "id": "1cb2ceb6",
   "metadata": {},
   "outputs": [
    {
     "name": "stdout",
     "output_type": "stream",
     "text": [
      "('llm_tool',)\n",
      "[SystemMessage(content='you are a retaurent mangement agent  who does the task  based on the provided postgress sql database', additional_kwargs={}, response_metadata={}, id='50e2ed5b-93c6-4a4f-b7cf-39a7a9ec4e59')]\n"
     ]
    }
   ],
   "source": [
    "state=graph.get_state(config)\n",
    "print(state.next)\n",
    "print(state.values[\"messages\"])"
   ]
  },
  {
   "cell_type": "code",
   "execution_count": null,
   "id": "b645f238",
   "metadata": {},
   "outputs": [
    {
     "name": "stdout",
     "output_type": "stream",
     "text": [
      "('llm_tool',)\n",
      "================================\u001b[1m System Message \u001b[0m================================\n",
      "\n",
      "you are a retaurent mangement agent  who does the task  based on the provided postgress sql database\n",
      "('llm_tool',)\n",
      "================================\u001b[1m System Message \u001b[0m================================\n",
      "\n",
      "you are a retaurent mangement agent  who does the task  based on the provided postgress sql database\n",
      "================================\u001b[1m Human Message \u001b[0m=================================\n",
      "\n",
      "\n",
      "==================================\u001b[1m Ai Message \u001b[0m==================================\n",
      "Tool Calls:\n",
      "  sql_db_list_tables (call_6qQPnoouLQgFPqoLvR4db4Sb)\n",
      " Call ID: call_6qQPnoouLQgFPqoLvR4db4Sb\n",
      "  Args:\n",
      "=================================\u001b[1m Tool Message \u001b[0m=================================\n",
      "Name: sql_db_list_tables\n",
      "\n",
      "benches, customers, reservations, staff, tables, waitlist\n",
      "('llm_tool',)\n",
      "================================\u001b[1m System Message \u001b[0m================================\n",
      "\n",
      "you are a retaurent mangement agent  who does the task  based on the provided postgress sql database\n",
      "================================\u001b[1m Human Message \u001b[0m=================================\n",
      "\n",
      "\n",
      "==================================\u001b[1m Ai Message \u001b[0m==================================\n",
      "Tool Calls:\n",
      "  sql_db_list_tables (call_6qQPnoouLQgFPqoLvR4db4Sb)\n",
      " Call ID: call_6qQPnoouLQgFPqoLvR4db4Sb\n",
      "  Args:\n",
      "=================================\u001b[1m Tool Message \u001b[0m=================================\n",
      "Name: sql_db_list_tables\n",
      "\n",
      "benches, customers, reservations, staff, tables, waitlist\n",
      "================================\u001b[1m Human Message \u001b[0m=================================\n",
      "\n",
      "i want to make a reservation\n",
      "==================================\u001b[1m Ai Message \u001b[0m==================================\n",
      "\n",
      "To assist you with making a reservation, I need the following details:\n",
      "\n",
      "1. Name of the customer.\n",
      "2. Date and time for the reservation.\n",
      "3. Number of guests.\n",
      "4. Any special requests (if applicable).\n",
      "\n",
      "Please provide this information so I can proceed!\n",
      "('llm_tool',)\n",
      "================================\u001b[1m System Message \u001b[0m================================\n",
      "\n",
      "you are a retaurent mangement agent  who does the task  based on the provided postgress sql database\n",
      "================================\u001b[1m Human Message \u001b[0m=================================\n",
      "\n",
      "\n",
      "==================================\u001b[1m Ai Message \u001b[0m==================================\n",
      "Tool Calls:\n",
      "  sql_db_list_tables (call_6qQPnoouLQgFPqoLvR4db4Sb)\n",
      " Call ID: call_6qQPnoouLQgFPqoLvR4db4Sb\n",
      "  Args:\n",
      "=================================\u001b[1m Tool Message \u001b[0m=================================\n",
      "Name: sql_db_list_tables\n",
      "\n",
      "benches, customers, reservations, staff, tables, waitlist\n",
      "================================\u001b[1m Human Message \u001b[0m=================================\n",
      "\n",
      "i want to make a reservation\n",
      "==================================\u001b[1m Ai Message \u001b[0m==================================\n",
      "\n",
      "To assist you with making a reservation, I need the following details:\n",
      "\n",
      "1. Name of the customer.\n",
      "2. Date and time for the reservation.\n",
      "3. Number of guests.\n",
      "4. Any special requests (if applicable).\n",
      "\n",
      "Please provide this information so I can proceed!\n",
      "================================\u001b[1m Human Message \u001b[0m=================================\n",
      "\n",
      "i want to make a reservation\n",
      "==================================\u001b[1m Ai Message \u001b[0m==================================\n",
      "\n",
      "I can help you with that! Please provide the following details for your reservation:\n",
      "\n",
      "1. **Customer Name:** \n",
      "2. **Reservation Date and Time:** \n",
      "3. **Number of Guests:** \n",
      "4. **Any Special Requests (optional):** \n",
      "\n",
      "Once I have these details, I can proceed with making the reservation for you!\n",
      "('llm_tool',)\n",
      "================================\u001b[1m System Message \u001b[0m================================\n",
      "\n",
      "you are a retaurent mangement agent  who does the task  based on the provided postgress sql database\n",
      "================================\u001b[1m Human Message \u001b[0m=================================\n",
      "\n",
      "\n",
      "==================================\u001b[1m Ai Message \u001b[0m==================================\n",
      "Tool Calls:\n",
      "  sql_db_list_tables (call_6qQPnoouLQgFPqoLvR4db4Sb)\n",
      " Call ID: call_6qQPnoouLQgFPqoLvR4db4Sb\n",
      "  Args:\n",
      "=================================\u001b[1m Tool Message \u001b[0m=================================\n",
      "Name: sql_db_list_tables\n",
      "\n",
      "benches, customers, reservations, staff, tables, waitlist\n",
      "================================\u001b[1m Human Message \u001b[0m=================================\n",
      "\n",
      "i want to make a reservation\n",
      "==================================\u001b[1m Ai Message \u001b[0m==================================\n",
      "\n",
      "To assist you with making a reservation, I need the following details:\n",
      "\n",
      "1. Name of the customer.\n",
      "2. Date and time for the reservation.\n",
      "3. Number of guests.\n",
      "4. Any special requests (if applicable).\n",
      "\n",
      "Please provide this information so I can proceed!\n",
      "================================\u001b[1m Human Message \u001b[0m=================================\n",
      "\n",
      "i want to make a reservation\n",
      "==================================\u001b[1m Ai Message \u001b[0m==================================\n",
      "\n",
      "I can help you with that! Please provide the following details for your reservation:\n",
      "\n",
      "1. **Customer Name:** \n",
      "2. **Reservation Date and Time:** \n",
      "3. **Number of Guests:** \n",
      "4. **Any Special Requests (optional):** \n",
      "\n",
      "Once I have these details, I can proceed with making the reservation for you!\n",
      "================================\u001b[1m Human Message \u001b[0m=================================\n",
      "\n",
      "my name is subbu\n",
      "==================================\u001b[1m Ai Message \u001b[0m==================================\n",
      "\n",
      "Thank you, Subbu! I still need the following details to complete your reservation:\n",
      "\n",
      "1. **Reservation Date and Time:** \n",
      "2. **Number of Guests:** \n",
      "3. **Any Special Requests (optional):** \n",
      "\n",
      "Please provide this information so I can finalize your reservation.\n",
      "('llm_tool',)\n",
      "================================\u001b[1m System Message \u001b[0m================================\n",
      "\n",
      "you are a retaurent mangement agent  who does the task  based on the provided postgress sql database\n",
      "================================\u001b[1m Human Message \u001b[0m=================================\n",
      "\n",
      "\n",
      "==================================\u001b[1m Ai Message \u001b[0m==================================\n",
      "Tool Calls:\n",
      "  sql_db_list_tables (call_6qQPnoouLQgFPqoLvR4db4Sb)\n",
      " Call ID: call_6qQPnoouLQgFPqoLvR4db4Sb\n",
      "  Args:\n",
      "=================================\u001b[1m Tool Message \u001b[0m=================================\n",
      "Name: sql_db_list_tables\n",
      "\n",
      "benches, customers, reservations, staff, tables, waitlist\n",
      "================================\u001b[1m Human Message \u001b[0m=================================\n",
      "\n",
      "i want to make a reservation\n",
      "==================================\u001b[1m Ai Message \u001b[0m==================================\n",
      "\n",
      "To assist you with making a reservation, I need the following details:\n",
      "\n",
      "1. Name of the customer.\n",
      "2. Date and time for the reservation.\n",
      "3. Number of guests.\n",
      "4. Any special requests (if applicable).\n",
      "\n",
      "Please provide this information so I can proceed!\n",
      "================================\u001b[1m Human Message \u001b[0m=================================\n",
      "\n",
      "i want to make a reservation\n",
      "==================================\u001b[1m Ai Message \u001b[0m==================================\n",
      "\n",
      "I can help you with that! Please provide the following details for your reservation:\n",
      "\n",
      "1. **Customer Name:** \n",
      "2. **Reservation Date and Time:** \n",
      "3. **Number of Guests:** \n",
      "4. **Any Special Requests (optional):** \n",
      "\n",
      "Once I have these details, I can proceed with making the reservation for you!\n",
      "================================\u001b[1m Human Message \u001b[0m=================================\n",
      "\n",
      "my name is subbu\n",
      "==================================\u001b[1m Ai Message \u001b[0m==================================\n",
      "\n",
      "Thank you, Subbu! I still need the following details to complete your reservation:\n",
      "\n",
      "1. **Reservation Date and Time:** \n",
      "2. **Number of Guests:** \n",
      "3. **Any Special Requests (optional):** \n",
      "\n",
      "Please provide this information so I can finalize your reservation.\n",
      "================================\u001b[1m Human Message \u001b[0m=================================\n",
      "\n",
      "my name is subbu\n",
      "==================================\u001b[1m Ai Message \u001b[0m==================================\n",
      "Tool Calls:\n",
      "  sql_db_query (call_LfAcXY77TSGUhRmdtxvWSxFA)\n",
      " Call ID: call_LfAcXY77TSGUhRmdtxvWSxFA\n",
      "  Args:\n",
      "    query: SELECT * FROM customers WHERE name = 'subbu'\n",
      "=================================\u001b[1m Tool Message \u001b[0m=================================\n",
      "Name: sql_db_query\n",
      "\n",
      "\n",
      "('llm_tool',)\n",
      "================================\u001b[1m System Message \u001b[0m================================\n",
      "\n",
      "you are a retaurent mangement agent  who does the task  based on the provided postgress sql database\n",
      "================================\u001b[1m Human Message \u001b[0m=================================\n",
      "\n",
      "\n",
      "==================================\u001b[1m Ai Message \u001b[0m==================================\n",
      "Tool Calls:\n",
      "  sql_db_list_tables (call_6qQPnoouLQgFPqoLvR4db4Sb)\n",
      " Call ID: call_6qQPnoouLQgFPqoLvR4db4Sb\n",
      "  Args:\n",
      "=================================\u001b[1m Tool Message \u001b[0m=================================\n",
      "Name: sql_db_list_tables\n",
      "\n",
      "benches, customers, reservations, staff, tables, waitlist\n",
      "================================\u001b[1m Human Message \u001b[0m=================================\n",
      "\n",
      "i want to make a reservation\n",
      "==================================\u001b[1m Ai Message \u001b[0m==================================\n",
      "\n",
      "To assist you with making a reservation, I need the following details:\n",
      "\n",
      "1. Name of the customer.\n",
      "2. Date and time for the reservation.\n",
      "3. Number of guests.\n",
      "4. Any special requests (if applicable).\n",
      "\n",
      "Please provide this information so I can proceed!\n",
      "================================\u001b[1m Human Message \u001b[0m=================================\n",
      "\n",
      "i want to make a reservation\n",
      "==================================\u001b[1m Ai Message \u001b[0m==================================\n",
      "\n",
      "I can help you with that! Please provide the following details for your reservation:\n",
      "\n",
      "1. **Customer Name:** \n",
      "2. **Reservation Date and Time:** \n",
      "3. **Number of Guests:** \n",
      "4. **Any Special Requests (optional):** \n",
      "\n",
      "Once I have these details, I can proceed with making the reservation for you!\n",
      "================================\u001b[1m Human Message \u001b[0m=================================\n",
      "\n",
      "my name is subbu\n",
      "==================================\u001b[1m Ai Message \u001b[0m==================================\n",
      "\n",
      "Thank you, Subbu! I still need the following details to complete your reservation:\n",
      "\n",
      "1. **Reservation Date and Time:** \n",
      "2. **Number of Guests:** \n",
      "3. **Any Special Requests (optional):** \n",
      "\n",
      "Please provide this information so I can finalize your reservation.\n",
      "================================\u001b[1m Human Message \u001b[0m=================================\n",
      "\n",
      "my name is subbu\n",
      "==================================\u001b[1m Ai Message \u001b[0m==================================\n",
      "Tool Calls:\n",
      "  sql_db_query (call_LfAcXY77TSGUhRmdtxvWSxFA)\n",
      " Call ID: call_LfAcXY77TSGUhRmdtxvWSxFA\n",
      "  Args:\n",
      "    query: SELECT * FROM customers WHERE name = 'subbu'\n",
      "=================================\u001b[1m Tool Message \u001b[0m=================================\n",
      "Name: sql_db_query\n",
      "\n",
      "\n",
      "================================\u001b[1m Human Message \u001b[0m=================================\n",
      "\n",
      "\n",
      "==================================\u001b[1m Ai Message \u001b[0m==================================\n",
      "\n",
      "It appears that I was unable to retrieve any information using the name \"Subbu.\" To proceed with making your reservation, could you please provide the following details:\n",
      "\n",
      "1. **Reservation Date and Time:** \n",
      "2. **Number of Guests:** \n",
      "3. **Any Special Requests (optional):** \n",
      "\n",
      "This will help ensure your reservation is made accurately!\n"
     ]
    }
   ],
   "source": [
    "while(state.next != ()):\n",
    "    state=graph.get_state(config)\n",
    "    print(state.next)\n",
    "    for message in state.values[\"messages\"]:\n",
    "        message.pretty_print()\n",
    "    graph.update_state(config,MessagesState(messages=[HumanMessage(content = input(\"enter something\"))]))\n",
    "    for event in graph.stream(None,config,stream_mode=\"value\"):\n",
    "        print(event)\n",
    "    "
   ]
  },
  {
   "cell_type": "code",
   "execution_count": null,
   "id": "dbdb6cd0",
   "metadata": {},
   "outputs": [],
   "source": [
    "# # Assuming config is your thread ID\n",
    "# state = graph.get_state(config)\n",
    "\n",
    "# while state.next is not None:\n",
    "#     print(\"🧠 Current next node:\", state.next)\n",
    "\n",
    "#     # Print messages so far\n",
    "#     for message in state.values[\"messages\"]:\n",
    "#         message.pretty_print()\n",
    "\n",
    "#     # If we're at a paused state (e.g., human input needed), collect input\n",
    "#     if state.next == (\"llm_tool\",):  # or whichever node you interrupt\n",
    "#         user_input = input(\"Enter human input: \")\n",
    "#         updated_messages = state.values[\"messages\"] + [HumanMessage(content=user_input)]\n",
    "\n",
    "#         # Update the state\n",
    "#         graph.update_state(config, MessagesState(messages=updated_messages))\n",
    "\n",
    "#     # Resume execution from current state using stream\n",
    "#     for event in graph.stream(None, config, stream_mode=\"values\"):\n",
    "#         # Optional: print intermediate states\n",
    "#         for msg in event[\"messages\"]:\n",
    "#             msg.pretty_print()\n",
    "\n",
    "#     # Get new state after streaming\n",
    "#     state = graph.get_state(config)\n",
    "\n",
    "# print(\"✅ Graph execution complete.\")\n"
   ]
  },
  {
   "cell_type": "code",
   "execution_count": null,
   "id": "05c1add6",
   "metadata": {},
   "outputs": [],
   "source": [
    "\n",
    "graph.update_state(config,MessagesState(messages=[HumanMessage(content = input(\"enter something\"))]))\n",
    "for event in graph.stream(None,config,stream_mode=\"value\"):\n",
    "    print(event)\n",
    "\n"
   ]
  },
  {
   "cell_type": "code",
   "execution_count": null,
   "id": "970b484f",
   "metadata": {},
   "outputs": [
    {
     "name": "stdout",
     "output_type": "stream",
     "text": [
      "('llm_tool',)\n",
      "==================================\u001b[1m Ai Message \u001b[0m==================================\n",
      "\n",
      "To help you make a reservation, could you please provide the following details?\n",
      "\n",
      "1. Your name\n",
      "2. The date and time for the reservation\n",
      "3. The number of people\n",
      "4. Any specific seating preferences or special requests\n"
     ]
    }
   ],
   "source": [
    "state=graph.get_state(config)\n",
    "print(state.next)\n",
    "state.values[\"messages\"][-1].pretty_print()\n"
   ]
  },
  {
   "cell_type": "code",
   "execution_count": null,
   "id": "db30385c",
   "metadata": {},
   "outputs": [
    {
     "data": {
      "text/plain": [
       "()"
      ]
     },
     "execution_count": 47,
     "metadata": {},
     "output_type": "execute_result"
    }
   ],
   "source": [
    "# state=graph.get_state(config)\n",
    "# state.next"
   ]
  },
  {
   "cell_type": "code",
   "execution_count": null,
   "id": "a400d57b",
   "metadata": {},
   "outputs": [
    {
     "name": "stdout",
     "output_type": "stream",
     "text": [
      "[SystemMessage(content='you are a retaurent mangementagent  who answers the queries based onn the provided postgress sql database', additional_kwargs={}, response_metadata={}, id='fddd85fb-a17d-4fb3-b2c1-aa2577edd9c0'), HumanMessage(content='i want to make a reservation', additional_kwargs={}, response_metadata={}, id='4dbce002-076b-4085-9d77-6d58d2bcd428'), AIMessage(content=\"To assist you with making a reservation, I need a bit more information. Could you please provide the following details?\\n\\n1. Date and time for the reservation.\\n2. Number of people.\\n3. Any special requests (e.g., dietary restrictions, special occasions).\\n4. Your contact information.\\n\\nOnce I have this information, I'll be able to assist you further!\", additional_kwargs={'refusal': None}, response_metadata={'token_usage': {'completion_tokens': 74, 'prompt_tokens': 346, 'total_tokens': 420, 'completion_tokens_details': {'accepted_prediction_tokens': 0, 'audio_tokens': 0, 'reasoning_tokens': 0, 'rejected_prediction_tokens': 0}, 'prompt_tokens_details': {'audio_tokens': 0, 'cached_tokens': 0}}, 'model_name': 'gpt-4o-2024-08-06', 'system_fingerprint': 'fp_07871e2ad8', 'id': 'chatcmpl-ByvrEORbE14LQwNB1i2ELCYqBavd2', 'service_tier': 'default', 'finish_reason': 'stop', 'logprobs': None}, id='run--ee9cd7bb-0a25-4a08-98ef-f85aeb5edd04-0', usage_metadata={'input_tokens': 346, 'output_tokens': 74, 'total_tokens': 420, 'input_token_details': {'audio': 0, 'cache_read': 0}, 'output_token_details': {'audio': 0, 'reasoning': 0}}), HumanMessage(content='Myname is subbu', additional_kwargs={}, response_metadata={}, id='e14391e6-645a-41d0-b231-c67a059ddb83'), AIMessage(content=\"Thank you, Subbu! Could you please provide the following details to complete the reservation process?\\n\\n1. Date and time for the reservation.\\n2. Number of people.\\n3. Any special requests (e.g., dietary restrictions, special occasions).\\n4. Your contact information (phone number or email address).\\n\\nOnce I have this information, I'll assist you with the reservation.\", additional_kwargs={'refusal': None}, response_metadata={'token_usage': {'completion_tokens': 75, 'prompt_tokens': 432, 'total_tokens': 507, 'completion_tokens_details': {'accepted_prediction_tokens': 0, 'audio_tokens': 0, 'reasoning_tokens': 0, 'rejected_prediction_tokens': 0}, 'prompt_tokens_details': {'audio_tokens': 0, 'cached_tokens': 0}}, 'model_name': 'gpt-4o-2024-08-06', 'system_fingerprint': 'fp_07871e2ad8', 'id': 'chatcmpl-ByvwNV9UbSjHJQ9nWceiCozJDCR0u', 'service_tier': 'default', 'finish_reason': 'stop', 'logprobs': None}, id='run--3484a134-7e03-4c80-8165-8be7b7a75ea4-0', usage_metadata={'input_tokens': 432, 'output_tokens': 75, 'total_tokens': 507, 'input_token_details': {'audio': 0, 'cache_read': 0}, 'output_token_details': {'audio': 0, 'reasoning': 0}})]\n"
     ]
    }
   ],
   "source": [
    "# print(state.values[\"messages\"])"
   ]
  },
  {
   "cell_type": "code",
   "execution_count": null,
   "id": "bc6aa1a9",
   "metadata": {},
   "outputs": [
    {
     "data": {
      "text/plain": [
       "{'configurable': {'thread_id': 'test_13',\n",
       "  'checkpoint_ns': '',\n",
       "  'checkpoint_id': '1f06d1c2-2d71-678c-8001-cff7e2b1475e'}}"
      ]
     },
     "execution_count": 56,
     "metadata": {},
     "output_type": "execute_result"
    }
   ],
   "source": [
    "# graph.update_state(config,MessagesState(messages=[HumanMessage(content = \"Mynumber is 888888888\")]))"
   ]
  },
  {
   "cell_type": "code",
   "execution_count": null,
   "id": "972ff93b",
   "metadata": {},
   "outputs": [
    {
     "data": {
      "text/plain": [
       "<generator object Pregel.stream at 0x0000022406244220>"
      ]
     },
     "execution_count": 60,
     "metadata": {},
     "output_type": "execute_result"
    }
   ],
   "source": [
    "# graph.stream(MessagesState(messages=[HumanMessage(content = \"Myname is subbu\")]),config,stream_mode=\"value\")"
   ]
  },
  {
   "cell_type": "code",
   "execution_count": null,
   "id": "37d15389",
   "metadata": {},
   "outputs": [],
   "source": [
    "# for event in graph.stream(None,config,stream_mode=\"value\"):\n",
    "#     print(event[\"messages\"])"
   ]
  },
  {
   "cell_type": "code",
   "execution_count": null,
   "id": "80e92731",
   "metadata": {},
   "outputs": [],
   "source": []
  }
 ],
 "metadata": {
  "kernelspec": {
   "display_name": "restenv",
   "language": "python",
   "name": "python3"
  },
  "language_info": {
   "codemirror_mode": {
    "name": "ipython",
    "version": 3
   },
   "file_extension": ".py",
   "mimetype": "text/x-python",
   "name": "python",
   "nbconvert_exporter": "python",
   "pygments_lexer": "ipython3",
   "version": "3.13.5"
  }
 },
 "nbformat": 4,
 "nbformat_minor": 5
}
