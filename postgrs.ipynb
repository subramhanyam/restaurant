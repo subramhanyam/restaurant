{
 "cells": [
  {
   "cell_type": "code",
   "execution_count": 11,
   "id": "e6a3895c",
   "metadata": {},
   "outputs": [
    {
     "name": "stdout",
     "output_type": "stream",
     "text": [
      "('PostgreSQL 17.5 on x86_64-windows, compiled by msvc-19.44.35209, 64-bit',)\n"
     ]
    }
   ],
   "source": [
    "import psycopg2\n",
    "\n",
    "conn = psycopg2.connect(\n",
    "    dbname=\"testdb\",\n",
    "    user=\"postgres\",\n",
    "    password=\"@miNDs7878$\",\n",
    "    host=\"localhost\",\n",
    "    port=\"5432\"\n",
    ")\n",
    "\n",
    "cur = conn.cursor()\n",
    "cur.execute(\"SELECT version();\")\n",
    "print(cur.fetchone())\n"
   ]
  },
  {
   "cell_type": "code",
   "execution_count": 12,
   "id": "25b8dca5",
   "metadata": {},
   "outputs": [],
   "source": [
    "cur.execute(\"\"\"CREATE TABLE cars (\n",
    "  brand VARCHAR(255),\n",
    "  model VARCHAR(255),\n",
    "  year INT\n",
    ");\"\"\")"
   ]
  },
  {
   "cell_type": "code",
   "execution_count": 13,
   "id": "bb1d720b",
   "metadata": {},
   "outputs": [],
   "source": [
    "cur.execute(\"\"\"INSERT INTO cars (brand, model, year)\n",
    "VALUES ('Ford', 'Mustang', 1964);\"\"\")"
   ]
  },
  {
   "cell_type": "code",
   "execution_count": 14,
   "id": "b68f6a95",
   "metadata": {},
   "outputs": [],
   "source": [
    "cur.execute(\"SELECT * FROM cars\")"
   ]
  },
  {
   "cell_type": "code",
   "execution_count": 15,
   "id": "6cbf3047",
   "metadata": {},
   "outputs": [
    {
     "name": "stdout",
     "output_type": "stream",
     "text": [
      "('Ford', 'Mustang', 1964)\n"
     ]
    }
   ],
   "source": [
    "print(cur.fetchone())"
   ]
  },
  {
   "cell_type": "code",
   "execution_count": 16,
   "id": "e0a6470e",
   "metadata": {},
   "outputs": [],
   "source": [
    "cur.close()\n",
    "conn.close()"
   ]
  },
  {
   "cell_type": "code",
   "execution_count": null,
   "id": "1efc398f",
   "metadata": {},
   "outputs": [],
   "source": []
  },
  {
   "cell_type": "code",
   "execution_count": null,
   "id": "1868ff89",
   "metadata": {},
   "outputs": [],
   "source": []
  },
  {
   "cell_type": "code",
   "execution_count": null,
   "id": "4788835d",
   "metadata": {},
   "outputs": [],
   "source": []
  }
 ],
 "metadata": {
  "kernelspec": {
   "display_name": "restenv",
   "language": "python",
   "name": "python3"
  },
  "language_info": {
   "codemirror_mode": {
    "name": "ipython",
    "version": 3
   },
   "file_extension": ".py",
   "mimetype": "text/x-python",
   "name": "python",
   "nbconvert_exporter": "python",
   "pygments_lexer": "ipython3",
   "version": "3.13.5"
  }
 },
 "nbformat": 4,
 "nbformat_minor": 5
}
